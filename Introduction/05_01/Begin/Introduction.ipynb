{
 "cells": [
  {
   "attachments": {},
   "cell_type": "markdown",
   "metadata": {},
   "source": [
    "# Introduction"
   ]
  },
  {
   "attachments": {},
   "cell_type": "markdown",
   "metadata": {},
   "source": [
    "### Introduction or week 1 work"
   ]
  },
  {
   "cell_type": "markdown",
   "metadata": {},
   "source": [
    "After opening the file the 1st thing i noticed it that we need to manage the upper portion of the bok having title and oher things etc."
   ]
  },
  {
   "cell_type": "code",
   "execution_count": 39,
   "metadata": {},
   "outputs": [
    {
     "data": {
      "text/plain": [
       "274951"
      ]
     },
     "execution_count": 39,
     "metadata": {},
     "output_type": "execute_result"
    }
   ],
   "source": [
    "f = open(\"PeterPan.txt\", \"r\", encoding=\"utf-8-sig\")\n",
    "t = f.read()\n",
    "len(t)"
   ]
  },
  {
   "cell_type": "markdown",
   "metadata": {},
   "source": [
    "The charater length of the text in the book is 274951 which means there are total 274951 characters in the whole book."
   ]
  },
  {
   "cell_type": "markdown",
   "metadata": {},
   "source": [
    "# NLTK TOKANIZERS"
   ]
  },
  {
   "cell_type": "markdown",
   "metadata": {},
   "source": [
    "## Split the book to sentences"
   ]
  },
  {
   "cell_type": "code",
   "execution_count": 40,
   "metadata": {},
   "outputs": [
    {
     "data": {
      "text/plain": [
       "2563"
      ]
     },
     "execution_count": 40,
     "metadata": {},
     "output_type": "execute_result"
    }
   ],
   "source": [
    "import nltk.tokenize as tok\n",
    "sents = tok.sent_tokenize(t, language= \"english\")\n",
    "len(sents)"
   ]
  },
  {
   "cell_type": "markdown",
   "metadata": {},
   "source": [
    "Yes the number corrosponds to the number of my expectations."
   ]
  },
  {
   "cell_type": "code",
   "execution_count": 41,
   "metadata": {},
   "outputs": [
    {
     "name": "stdout",
     "output_type": "stream",
     "text": [
      "The Project Gutenberg eBook of Peter Pan, by James M. Barrie\n",
      "\n",
      "This eBook is for the use of anyone anywhere in the United States and\n",
      "most other parts of the world at no cost and with almost no restrictions\n",
      "whatsoever.\n",
      "------------------\n",
      "You may copy it, give it away or re-use it under the terms\n",
      "of the Project Gutenberg License included with this eBook or online at\n",
      "www.gutenberg.org.\n",
      "------------------\n"
     ]
    }
   ],
   "source": [
    "print(sents[0])\n",
    "print (\"------------------\")\n",
    "print(sents[1])\n",
    "print (\"------------------\")\n"
   ]
  },
  {
   "cell_type": "code",
   "execution_count": 42,
   "metadata": {},
   "outputs": [
    {
     "name": "stdout",
     "output_type": "stream",
     "text": [
      "The Project Gutenberg eBook of Peter Pan, by James M. Barrie This eBook is for the use of anyone any\n"
     ]
    }
   ],
   "source": [
    "import re\n",
    "t = re.sub(r\"\\n+\", \" \", t) #re.sub() is subsitude method in regular expression.\n",
    "print(t[:100])"
   ]
  },
  {
   "cell_type": "code",
   "execution_count": 43,
   "metadata": {},
   "outputs": [
    {
     "data": {
      "text/plain": [
       "61946"
      ]
     },
     "execution_count": 43,
     "metadata": {},
     "output_type": "execute_result"
    }
   ],
   "source": [
    "tokens = tok.word_tokenize(t, language=\"english\")\n",
    "len(tokens)"
   ]
  },
  {
   "cell_type": "code",
   "execution_count": 44,
   "metadata": {},
   "outputs": [
    {
     "name": "stdout",
     "output_type": "stream",
     "text": [
      "274951\n",
      "['The', 'Project', 'Gutenberg', 'eBook', 'of', 'Peter', 'Pan', ',', 'by', 'James', 'M.', 'Barrie', 'This', 'eBook', 'is', 'for', 'the', 'use', 'of', 'anyone', 'anywhere', 'in', 'the', 'United', 'States', 'and', 'most', 'other', 'parts', 'of']\n"
     ]
    }
   ],
   "source": [
    "f = open(\"peterpan.txt\", \"r\", encoding=\"utf-8-sig\")\n",
    "t = f.read()\n",
    "tokens = tok.word_tokenize(t, language=\"english\")\n",
    "print(len(t))\n",
    "print(tokens[:30])\n"
   ]
  },
  {
   "cell_type": "markdown",
   "metadata": {},
   "source": [
    "# Frequency distribution and pandas"
   ]
  },
  {
   "cell_type": "code",
   "execution_count": 45,
   "metadata": {},
   "outputs": [
    {
     "name": "stdout",
     "output_type": "stream",
     "text": [
      "[(',', 3981), ('.', 2441), ('the', 2330), ('“', 1464), ('”', 1464), ('to', 1222), ('a', 959), ('of', 923), ('was', 920), ('he', 878)]\n",
      "361\n"
     ]
    }
   ],
   "source": [
    "import collections\n",
    "c = collections.Counter(tokens) # The Counter class is used to create a dictionary-like object \n",
    "del c[\"and\"]\n",
    "print(c.most_common(10))\n",
    "print(c[\"with\"])"
   ]
  },
  {
   "cell_type": "code",
   "execution_count": 46,
   "metadata": {},
   "outputs": [
    {
     "data": {
      "text/plain": [
       "'!\"#$%&\\'()*+,-./:;<=>?@[\\\\]^_`{|}~'"
      ]
     },
     "execution_count": 46,
     "metadata": {},
     "output_type": "execute_result"
    }
   ],
   "source": [
    "import string\n",
    "string.punctuation"
   ]
  },
  {
   "cell_type": "code",
   "execution_count": 47,
   "metadata": {},
   "outputs": [],
   "source": [
    "def remove_punctuation(text):\n",
    "    translator = str.maketrans(\"\", \"\", string.punctuation)\n",
    "    return text.translate(translator)\n",
    "clean_text= remove_punctuation(t)"
   ]
  },
  {
   "cell_type": "code",
   "execution_count": 48,
   "metadata": {},
   "outputs": [
    {
     "name": "stdout",
     "output_type": "stream",
     "text": [
      "[('the', 2329), ('“', 1464), ('”', 1464), ('and', 1420), ('to', 1222), ('a', 959), ('of', 923), ('was', 923), ('he', 878), ('in', 698)]\n",
      "361\n"
     ]
    }
   ],
   "source": [
    "len(clean_text)\n",
    "tokens = tok.word_tokenize(clean_text, language=\"english\")\n",
    "c = collections.Counter(tokens) # The Counter class is used to create a dictionary-like object \n",
    "print(c.most_common(10))\n",
    "print(c[\"with\"])"
   ]
  },
  {
   "cell_type": "code",
   "execution_count": 57,
   "metadata": {},
   "outputs": [
    {
     "name": "stdout",
     "output_type": "stream",
     "text": [
      "[('the', 2329), ('“', 1464), ('”', 1464), ('and', 1420), ('to', 1222), ('a', 959), ('of', 923), ('was', 923), ('he', 878), ('in', 698), ('it', 661), ('that', 609), ('’', 558), ('had', 499), ('you', 480), ('she', 477), ('they', 476), ('I', 464), ('her', 456), ('his', 456)]\n",
      "    Word  Frequency\n",
      "0    the       2329\n",
      "1      “       1464\n",
      "2      ”       1464\n",
      "3    and       1420\n",
      "4     to       1222\n",
      "5      a        959\n",
      "6     of        923\n",
      "7    was        923\n",
      "8     he        878\n",
      "9     in        698\n",
      "10    it        661\n",
      "11  that        609\n",
      "12     ’        558\n",
      "13   had        499\n",
      "14   you        480\n",
      "15   she        477\n",
      "16  they        476\n",
      "17     I        464\n",
      "18   her        456\n",
      "19   his        456\n"
     ]
    }
   ],
   "source": [
    "import pandas as pd\n",
    "data = c.most_common(20)\n",
    "print (data)\n",
    "df= pd.DataFrame(data, columns= [\"Word\",\"Frequency\"])\n",
    "print(df)"
   ]
  },
  {
   "cell_type": "code",
   "execution_count": 50,
   "metadata": {},
   "outputs": [
    {
     "name": "stdout",
     "output_type": "stream",
     "text": [
      "Tokens=  54354\n",
      "Type of tokens=  5836\n",
      "Ratio=  9.313570938999314\n"
     ]
    }
   ],
   "source": [
    "tokens = tok.word_tokenize(clean_text, language=\"english\")\n",
    "print(\"Tokens= \", len(tokens))\n",
    "print(\"Type of tokens= \", len(set(tokens))) # convert list of words to set leavinh just unique words.\n",
    "print(\"Ratio= \",len(tokens)/len(set(tokens)))"
   ]
  },
  {
   "cell_type": "code",
   "execution_count": 51,
   "metadata": {},
   "outputs": [
    {
     "data": {
      "text/html": [
       "<div>\n",
       "<style scoped>\n",
       "    .dataframe tbody tr th:only-of-type {\n",
       "        vertical-align: middle;\n",
       "    }\n",
       "\n",
       "    .dataframe tbody tr th {\n",
       "        vertical-align: top;\n",
       "    }\n",
       "\n",
       "    .dataframe thead th {\n",
       "        text-align: right;\n",
       "    }\n",
       "</style>\n",
       "<table border=\"1\" class=\"dataframe\">\n",
       "  <thead>\n",
       "    <tr style=\"text-align: right;\">\n",
       "      <th></th>\n",
       "      <th>Word</th>\n",
       "      <th>Frequency</th>\n",
       "    </tr>\n",
       "  </thead>\n",
       "  <tbody>\n",
       "    <tr>\n",
       "      <th>0</th>\n",
       "      <td>the</td>\n",
       "      <td>2329</td>\n",
       "    </tr>\n",
       "    <tr>\n",
       "      <th>1</th>\n",
       "      <td>“</td>\n",
       "      <td>1464</td>\n",
       "    </tr>\n",
       "    <tr>\n",
       "      <th>2</th>\n",
       "      <td>”</td>\n",
       "      <td>1464</td>\n",
       "    </tr>\n",
       "    <tr>\n",
       "      <th>3</th>\n",
       "      <td>and</td>\n",
       "      <td>1420</td>\n",
       "    </tr>\n",
       "    <tr>\n",
       "      <th>4</th>\n",
       "      <td>to</td>\n",
       "      <td>1222</td>\n",
       "    </tr>\n",
       "  </tbody>\n",
       "</table>\n",
       "</div>"
      ],
      "text/plain": [
       "  Word  Frequency\n",
       "0  the       2329\n",
       "1    “       1464\n",
       "2    ”       1464\n",
       "3  and       1420\n",
       "4   to       1222"
      ]
     },
     "execution_count": 51,
     "metadata": {},
     "output_type": "execute_result"
    }
   ],
   "source": [
    "df[df[\"Frequency\"]>=1000]"
   ]
  },
  {
   "cell_type": "code",
   "execution_count": 52,
   "metadata": {},
   "outputs": [
    {
     "name": "stdout",
     "output_type": "stream",
     "text": [
      "Empty DataFrame\n",
      "Columns: [Word, Frequency]\n",
      "Index: []\n"
     ]
    }
   ],
   "source": [
    "h= df[df[\"Frequency\"]==1]\n",
    "hapex= len(h)\n",
    "print(h)"
   ]
  },
  {
   "cell_type": "code",
   "execution_count": 53,
   "metadata": {},
   "outputs": [
    {
     "name": "stdout",
     "output_type": "stream",
     "text": [
      "0.0\n"
     ]
    }
   ],
   "source": [
    "percentage= hapex/len(tokens)*100\n",
    "print(percentage)"
   ]
  },
  {
   "cell_type": "markdown",
   "metadata": {},
   "source": [
    "5.3% of the words are hapex words in the whole document."
   ]
  },
  {
   "cell_type": "code",
   "execution_count": 54,
   "metadata": {},
   "outputs": [
    {
     "name": "stdout",
     "output_type": "stream",
     "text": [
      "261\n"
     ]
    }
   ],
   "source": [
    "count=0\n",
    "for words in tokens:\n",
    "    if words[0]==\"A\" and words.istitle():\n",
    "        count= count+1\n",
    "print(count)"
   ]
  },
  {
   "cell_type": "markdown",
   "metadata": {},
   "source": [
    "# Matplotlib "
   ]
  },
  {
   "cell_type": "code",
   "execution_count": 55,
   "metadata": {},
   "outputs": [
    {
     "name": "stdout",
     "output_type": "stream",
     "text": [
      "[0 1 2 3 4 5 6 7 8 9]\n"
     ]
    },
    {
     "data": {
      "text/plain": [
       "[<matplotlib.lines.Line2D at 0x1cbf3563548>]"
      ]
     },
     "execution_count": 55,
     "metadata": {},
     "output_type": "execute_result"
    },
    {
     "data": {
      "image/png": "[encoded data removed]",
      "text/plain": [
       "<Figure size 640x480 with 1 Axes>"
      ]
     },
     "metadata": {},
     "output_type": "display_data"
    }
   ],
   "source": [
    "import numpy as np\n",
    "numbers = np.arange(10)\n",
    "print(numbers)\n",
    "import matplotlib.pyplot as plt\n",
    "plt.plot(numbers)\n"
   ]
  },
  {
   "cell_type": "code",
   "execution_count": 60,
   "metadata": {},
   "outputs": [
    {
     "data": {
      "text/plain": [
       "<AxesSubplot:xlabel='Word'>"
      ]
     },
     "execution_count": 60,
     "metadata": {},
     "output_type": "execute_result"
    },
    {
     "data": {
      "image/png": "[encoded data removed]",
      "text/plain": [
       "<Figure size 640x480 with 1 Axes>"
      ]
     },
     "metadata": {},
     "output_type": "display_data"
    }
   ],
   "source": [
    "df= df.sort_values(\"Frequency\", ascending=False)\n",
    "df.plot(x=\"Word\", y=\"Frequency\" )"
   ]
  },
  {
   "cell_type": "code",
   "execution_count": 61,
   "metadata": {},
   "outputs": [],
   "source": [
    "df_zipf = df[:2000].reset_index(drop=True)"
   ]
  },
  {
   "cell_type": "code",
   "execution_count": 64,
   "metadata": {},
   "outputs": [
    {
     "name": "stdout",
     "output_type": "stream",
     "text": [
      "    Word  Frequency     z\n",
      "0    the       2329     0\n",
      "1      “       1464  1464\n",
      "2      ”       1464  2928\n",
      "3    and       1420  4260\n",
      "4     to       1222  4888\n",
      "5      a        959  4795\n",
      "6     of        923  5538\n",
      "7    was        923  6461\n",
      "8     he        878  7024\n",
      "9     in        698  6282\n",
      "10    it        661  6610\n",
      "11  that        609  6699\n",
      "12     ’        558  6696\n",
      "13   had        499  6487\n",
      "14   you        480  6720\n",
      "15   she        477  7155\n",
      "16  they        476  7616\n",
      "17     I        464  7888\n",
      "18   her        456  8208\n",
      "19   his        456  8664\n"
     ]
    }
   ],
   "source": [
    "df_zipf[\"z\"] = df_zipf.index.values * df_zipf[\"Frequency\"]\n",
    "print(df_zipf)\n"
   ]
  }
 ],
 "metadata": {
  "kernelspec": {
   "display_name": "Python 3",
   "language": "python",
   "name": "python3"
  },
  "language_info": {
   "codemirror_mode": {
    "name": "ipython",
    "version": 3
   },
   "file_extension": ".py",
   "mimetype": "text/x-python",
   "name": "python",
   "nbconvert_exporter": "python",
   "pygments_lexer": "ipython3",
   "version": "3.7.9"
  }
 },
 "nbformat": 4,
 "nbformat_minor": 2
}
